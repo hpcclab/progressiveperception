{
 "cells": [
  {
   "cell_type": "code",
   "execution_count": 1,
   "id": "b146bcce",
   "metadata": {},
   "outputs": [
    {
     "name": "stderr",
     "output_type": "stream",
     "text": [
      "Using TensorFlow backend.\n"
     ]
    }
   ],
   "source": [
    "import tensorflow\n",
    "import numpy as np\n",
    "import json\n",
    "import requests\n",
    "from keras.preprocessing.image import load_img\n",
    "from keras.preprocessing.image import img_to_array\n",
    "from keras.applications.vgg16 import preprocess_input\n",
    "from keras.applications.vgg16 import decode_predictions"
   ]
  },
  {
   "cell_type": "markdown",
   "id": "a35abb2e",
   "metadata": {},
   "source": [
    "## Loading quantized client model"
   ]
  },
  {
   "cell_type": "code",
   "execution_count": 3,
   "id": "0ff4a9d1",
   "metadata": {},
   "outputs": [],
   "source": [
    "interpreter = tensorflow.lite.Interpreter(model_path=\"VGG16_Client.tflite\")\n",
    "#allocate the tensors\n",
    "interpreter.allocate_tensors()\n",
    "input_details = interpreter.get_input_details()\n",
    "output_details = interpreter.get_output_details()"
   ]
  },
  {
   "cell_type": "markdown",
   "id": "fe630260",
   "metadata": {},
   "source": [
    "## Inference using quantized client model"
   ]
  },
  {
   "cell_type": "code",
   "execution_count": 4,
   "id": "6af66ef0",
   "metadata": {},
   "outputs": [],
   "source": [
    "# load an image from file\n",
    "image = load_img('lion.jpg', target_size=(224, 224))\n",
    "# convert the image pixels to a numpy array\n",
    "input_shape = input_details[0]['shape']\n",
    "input_tensor= np.array(np.expand_dims(image,0), dtype=np.float32)\n",
    "input_index = interpreter.get_input_details()[0][\"index\"]\n",
    "output_index = interpreter.get_output_details()[0][\"index\"]\n",
    "interpreter.set_tensor(input_index, input_tensor)\n",
    "\n",
    "interpreter.invoke()\n",
    "output_details = interpreter.get_output_details()\n",
    "predictions = interpreter.get_tensor(output_index)"
   ]
  },
  {
   "cell_type": "code",
   "execution_count": 5,
   "id": "6d4742a2",
   "metadata": {},
   "outputs": [
    {
     "data": {
      "text/plain": [
       "[('n02090721', 'Irish_wolfhound', 0.425627798),\n",
       " ('n02091831', 'Saluki', 0.183746397),\n",
       " ('n02113799', 'standard_poodle', 0.110293746)]"
      ]
     },
     "execution_count": 5,
     "metadata": {},
     "output_type": "execute_result"
    }
   ],
   "source": []
  },
  {
   "cell_type": "markdown",
   "id": "4007840a",
   "metadata": {},
   "source": [
    "## REST implementation"
   ]
  },
  {
   "cell_type": "code",
   "execution_count": 14,
   "id": "75e41d29",
   "metadata": {},
   "outputs": [
    {
     "name": "stdout",
     "output_type": "stream",
     "text": [
      "[[('n02090721', 'Irish_wolfhound', 0.425627798), ('n02091831', 'Saluki', 0.183746397), ('n02113799', 'standard_poodle', 0.110293746), ('n02109047', 'Great_Dane', 0.0402301066)]]\n"
     ]
    }
   ],
   "source": [
    "endpoint = 'http://10.131.36.51:8501/v1/models/VGG16_Server:predict'\n",
    "#headers = {\"content-type\": \"application/json\"}\n",
    "data = json.dumps({\"instances\": predictions.tolist()})\n",
    "#run_predictions_http(data, headers, endpoint)\n",
    "json_response = requests.post(endpoint, data)\n",
    "prediction = json.loads(json_response.text)\n",
    "result = decode_predictions(np.array(prediction['predictions']), top=4)\n",
    "print(result)"
   ]
  },
  {
   "cell_type": "code",
   "execution_count": null,
   "id": "adc7679b",
   "metadata": {},
   "outputs": [],
   "source": []
  }
 ],
 "metadata": {
  "kernelspec": {
   "display_name": "Python 3",
   "language": "python",
   "name": "python3"
  },
  "language_info": {
   "codemirror_mode": {
    "name": "ipython",
    "version": 3
   },
   "file_extension": ".py",
   "mimetype": "text/x-python",
   "name": "python",
   "nbconvert_exporter": "python",
   "pygments_lexer": "ipython3",
   "version": "3.6.13"
  }
 },
 "nbformat": 4,
 "nbformat_minor": 5
}
