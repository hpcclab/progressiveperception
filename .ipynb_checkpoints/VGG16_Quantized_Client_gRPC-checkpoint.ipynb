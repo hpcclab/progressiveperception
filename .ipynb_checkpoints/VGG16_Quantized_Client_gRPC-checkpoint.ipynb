{
 "cells": [
  {
   "cell_type": "raw",
   "id": "95838655",
   "metadata": {},
   "source": [
    "# gRPC Inference with Quantized Client model and Non-quantized Server model"
   ]
  },
  {
   "cell_type": "markdown",
   "id": "58ba7d1b",
   "metadata": {},
   "source": [
    "## Loading libraries"
   ]
  },
  {
   "cell_type": "code",
   "execution_count": 10,
   "id": "42d6078e",
   "metadata": {},
   "outputs": [],
   "source": [
    "import tensorflow\n",
    "import numpy as np\n",
    "import json\n",
    "import requests\n",
    "import sys\n",
    "import os\n",
    "from os import listdir\n",
    "from keras.preprocessing.image import load_img\n",
    "from keras.preprocessing.image import img_to_array\n",
    "from keras.applications.vgg16 import preprocess_input\n",
    "from keras.applications.vgg16 import decode_predictions"
   ]
  },
  {
   "cell_type": "markdown",
   "id": "7075f229",
   "metadata": {},
   "source": [
    "## Creating gRPC inference function"
   ]
  },
  {
   "cell_type": "code",
   "execution_count": 24,
   "id": "52c247a9",
   "metadata": {},
   "outputs": [],
   "source": [
    "endpoint = 'http://10.131.36.22:8501/v1/models/VGG16_Server:predict'\n",
    "headers = {\"content-type\": \"application/json\"}\n",
    "def run_prediction(data,headers,endpoint):\n",
    "    json_response = requests.post(endpoint,data=data,headers=headers)\n",
    "    response = json.loads(json_response.text)\n",
    "    yhat = response['predictions']\n",
    "    #Converting back to array\n",
    "    yhat = np.array(yhat)\n",
    "    label = decode_predictions(yhat)\n",
    "    return (label)"
   ]
  },
  {
   "cell_type": "markdown",
   "id": "b199680c",
   "metadata": {},
   "source": [
    "## Loading Quantized client model"
   ]
  },
  {
   "cell_type": "code",
   "execution_count": 25,
   "id": "e93bfc76",
   "metadata": {},
   "outputs": [],
   "source": [
    "interpreter = tensorflow.lite.Interpreter(model_path=\"VGG16_Client.tflite\")\n",
    "#allocate the tensors\n",
    "interpreter.allocate_tensors()\n",
    "input_details = interpreter.get_input_details()\n",
    "output_details = interpreter.get_output_details()"
   ]
  },
  {
   "cell_type": "markdown",
   "id": "85442ae6",
   "metadata": {},
   "source": [
    "## Iterating a dir for all images .jpg & .jpeg"
   ]
  },
  {
   "cell_type": "code",
   "execution_count": null,
   "id": "45af5154",
   "metadata": {},
   "outputs": [],
   "source": [
    "# Gets the path of the directory where the images are located as a command line argument\n",
    "folder_dir = sys.argv[1]\n",
    "for images in os.listdir(folder_dir):\n",
    "    # Operates on .jpg and .jpeg file types\n",
    "    if images.endswith(\".jpg\") or images.endswith(\".jpeg\"):\n",
    "        image = load_img(folder_dir+images, target_size=(224, 224))\n",
    "        # convert the image pixels to a numpy array\n",
    "        input_shape = input_details[0]['shape']\n",
    "        input_tensor= np.array(np.expand_dims(image,0), dtype=np.float32)\n",
    "        input_index = interpreter.get_input_details()[0][\"index\"]\n",
    "        output_index = interpreter.get_output_details()[0][\"index\"]\n",
    "        interpreter.set_tensor(input_index, input_tensor)\n",
    "\n",
    "        interpreter.invoke()\n",
    "        output_details = interpreter.get_output_details()\n",
    "        predictions = interpreter.get_tensor(output_index)\n",
    "        data = json.dumps({\"instances\": predictions.tolist()})\n",
    "        #gRPC call and printing of inference\n",
    "        print(run_prediction(data,headers,endpoint))"
   ]
  }
 ],
 "metadata": {
  "kernelspec": {
   "display_name": "Python 3",
   "language": "python",
   "name": "python3"
  },
  "language_info": {
   "codemirror_mode": {
    "name": "ipython",
    "version": 3
   },
   "file_extension": ".py",
   "mimetype": "text/x-python",
   "name": "python",
   "nbconvert_exporter": "python",
   "pygments_lexer": "ipython3",
   "version": "3.6.13"
  }
 },
 "nbformat": 4,
 "nbformat_minor": 5
}
